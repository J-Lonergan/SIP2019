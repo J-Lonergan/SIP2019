{
 "cells": [
  {
   "cell_type": "code",
   "execution_count": 1,
   "metadata": {},
   "outputs": [],
   "source": [
    "from astropy.io import ascii\n",
    "from astropy.io import fits\n",
    "from astropy.table import Table, Column, join, hstack\n",
    "from astropy.coordinates import SkyCoord\n",
    "from astropy import units as u\n",
    "from astropy.visualization import ZScaleInterval\n",
    "\n",
    "import numpy as np\n",
    "from lmfit import Model\n",
    "from numpy import exp, loadtxt, pi, sqrt\n",
    "import astropy.cosmology\n",
    "import matplotlib as mpl\n",
    "from matplotlib import pyplot as plt\n",
    "from pathlib import Path\n",
    "from scipy.optimize import curve_fit\n",
    "from lmfit.models import GaussianModel, LinearModel\n",
    "\n",
    "# Enable inline plotting in this notebook\n",
    "%matplotlib inline\n",
    "\n",
    "pathtodata = '../data/'\n",
    "pathtospectra = '/misc/marenostrum/pgperez/gbarro/DEIMOS/halo7d/data_reduction_HY_V2/'\n",
    "\n",
    "import warnings\n",
    "warnings.filterwarnings('ignore')"
   ]
  },
  {
   "cell_type": "code",
   "execution_count": 2,
   "metadata": {},
   "outputs": [
    {
     "data": {
      "text/html": [
       "<i>Table length=905</i>\n",
       "<table id=\"table140528318160512\" class=\"table-striped table-bordered table-condensed\">\n",
       "<thead><tr><th>HALO7D_ID</th><th>obs_date [16]</th><th>obs_date.mask [16]</th><th>mask_folder [16]</th><th>mask_folder.mask [16]</th><th>mask [16]</th><th>mask.mask [16]</th><th>slit [16]</th><th>slit.mask [16]</th><th>num_obs [1]</th><th>num_obs.mask [1]</th><th>zbest</th><th>zbest.mask</th><th>M_2a_tau</th><th>M_2a_tau.mask</th><th>M_14a_tau</th><th>M_14a_tau.mask</th><th>ir_SFRTOTf</th><th>ir_SFRTOTf.mask</th><th>WFC3_F160W_flux</th><th>WFC3_F160W_flux.mask</th></tr></thead>\n",
       "<thead><tr><th>bytes13</th><th>bytes13</th><th>bool</th><th>bytes11</th><th>bool</th><th>bytes11</th><th>bool</th><th>int64</th><th>bool</th><th>int64</th><th>bool</th><th>float64</th><th>bool</th><th>float64</th><th>bool</th><th>float64</th><th>bool</th><th>float64</th><th>bool</th><th>float64</th><th>bool</th></tr></thead>\n",
       "<tr><td>10051</td><td>0.0 .. 0.0</td><td>True .. True</td><td>0.0 .. 0.0</td><td>True .. True</td><td>0.0 .. 0.0</td><td>True .. True</td><td>0 .. 0</td><td>True .. True</td><td>8</td><td>True</td><td>0.01</td><td>False</td><td>9.58</td><td>False</td><td>-99.0</td><td>False</td><td>0.0337953</td><td>False</td><td>585.94377</td><td>False</td></tr>\n",
       "<tr><td>10234</td><td>2014apr06 ..</td><td>False .. False</td><td>E1a ..</td><td>False .. False</td><td>E1a ..</td><td>False .. False</td><td>0 .. 0</td><td>False .. False</td><td>8</td><td>False</td><td>0.035</td><td>False</td><td>6.85</td><td>False</td><td>-99.0</td><td>False</td><td>0.0274546</td><td>False</td><td>3.06730675</td><td>False</td></tr>\n",
       "<tr><td>10272</td><td>2014apr06 ..</td><td>False .. False</td><td>E1a ..</td><td>False .. False</td><td>E1a ..</td><td>False .. False</td><td>1 .. 0</td><td>False .. False</td><td>8</td><td>False</td><td>0.03</td><td>False</td><td>7.94</td><td>False</td><td>-99.0</td><td>False</td><td>0.0597286</td><td>False</td><td>16.8442875</td><td>False</td></tr>\n",
       "<tr><td>10274</td><td>2016apr09 ..</td><td>False .. False</td><td>E5a ..</td><td>False .. False</td><td>E5a ..</td><td>False .. False</td><td>4 .. 0</td><td>False .. False</td><td>5</td><td>False</td><td>0.134</td><td>False</td><td>9.51</td><td>False</td><td>7.39361</td><td>False</td><td>0.036039</td><td>False</td><td>1.82754524</td><td>False</td></tr>\n",
       "<tr><td>10381</td><td>2014apr06 ..</td><td>False .. False</td><td>E1a ..</td><td>False .. False</td><td>E1a ..</td><td>False .. False</td><td>2 .. 0</td><td>False .. False</td><td>8</td><td>False</td><td>1.962</td><td>False</td><td>7.42</td><td>False</td><td>8.27854</td><td>False</td><td>6.27293</td><td>False</td><td>1.07857201</td><td>False</td></tr>\n",
       "<tr><td>10406</td><td>2014apr29 ..</td><td>False .. False</td><td>E0c ..</td><td>False .. False</td><td>E0c ..</td><td>False .. False</td><td>14 .. 0</td><td>False .. False</td><td>5</td><td>False</td><td>0.03</td><td>False</td><td>7.47</td><td>False</td><td>-99.0</td><td>False</td><td>0.000591279</td><td>False</td><td>8.48216118</td><td>False</td></tr>\n",
       "<tr><td>10423</td><td>2014apr29 ..</td><td>False .. False</td><td>E0c ..</td><td>False .. False</td><td>E0c ..</td><td>False .. False</td><td>93 .. 0</td><td>False .. False</td><td>5</td><td>False</td><td>0.739</td><td>False</td><td>9.68</td><td>False</td><td>9.56411</td><td>False</td><td>9.28227</td><td>False</td><td>7.80953724</td><td>False</td></tr>\n",
       "<tr><td>10588</td><td>0.0 .. 0.0</td><td>True .. True</td><td>0.0 .. 0.0</td><td>True .. True</td><td>0.0 .. 0.0</td><td>True .. True</td><td>0 .. 0</td><td>True .. True</td><td>8</td><td>True</td><td>0.005</td><td>False</td><td>10.34</td><td>False</td><td>-99.0</td><td>False</td><td>0.0157657</td><td>False</td><td>11940.2515</td><td>False</td></tr>\n",
       "<tr><td>10635</td><td>2016apr09 ..</td><td>False .. False</td><td>E5a ..</td><td>False .. False</td><td>E5a ..</td><td>False .. False</td><td>5 .. 0</td><td>False .. False</td><td>5</td><td>False</td><td>0.015</td><td>False</td><td>8.89</td><td>False</td><td>-99.0</td><td>False</td><td>0.0787542</td><td>False</td><td>53.5181665</td><td>False</td></tr>\n",
       "<tr><td>10674</td><td>2014jun24 ..</td><td>False .. False</td><td>E2a ..</td><td>False .. False</td><td>E2a ..</td><td>False .. False</td><td>32 .. 0</td><td>False .. False</td><td>6</td><td>False</td><td>0.477</td><td>False</td><td>9.5</td><td>False</td><td>-99.0</td><td>False</td><td>1.57709</td><td>False</td><td>175.2408</td><td>False</td></tr>\n",
       "<tr><td>...</td><td>...</td><td>...</td><td>...</td><td>...</td><td>...</td><td>...</td><td>...</td><td>...</td><td>...</td><td>...</td><td>...</td><td>...</td><td>...</td><td>...</td><td>...</td><td>...</td><td>...</td><td>...</td><td>...</td><td>...</td></tr>\n",
       "<tr><td>irac144083</td><td>2014apr06 ..</td><td>False .. False</td><td>E1a ..</td><td>False .. False</td><td>E1a ..</td><td>False .. False</td><td>68 .. 0</td><td>False .. False</td><td>8</td><td>False</td><td>1.7</td><td>True</td><td>8.62</td><td>True</td><td>10.0875</td><td>True</td><td>3.93538</td><td>True</td><td>1.72360054</td><td>True</td></tr>\n",
       "<tr><td>irac144436</td><td>2014apr06 ..</td><td>False .. False</td><td>E1a ..</td><td>False .. False</td><td>E1a ..</td><td>False .. False</td><td>60 .. 0</td><td>False .. False</td><td>8</td><td>False</td><td>1.7</td><td>True</td><td>8.62</td><td>True</td><td>10.0875</td><td>True</td><td>3.93538</td><td>True</td><td>1.72360054</td><td>True</td></tr>\n",
       "<tr><td>irac144837</td><td>2014apr06 ..</td><td>False .. False</td><td>E1a ..</td><td>False .. False</td><td>E1a ..</td><td>False .. False</td><td>76 .. 0</td><td>False .. False</td><td>8</td><td>False</td><td>1.7</td><td>True</td><td>8.62</td><td>True</td><td>10.0875</td><td>True</td><td>3.93538</td><td>True</td><td>1.72360054</td><td>True</td></tr>\n",
       "<tr><td>irac145562</td><td>2014apr06 ..</td><td>False .. False</td><td>E1a ..</td><td>False .. False</td><td>E1a ..</td><td>False .. False</td><td>90 .. 0</td><td>False .. False</td><td>8</td><td>False</td><td>1.7</td><td>True</td><td>8.62</td><td>True</td><td>10.0875</td><td>True</td><td>3.93538</td><td>True</td><td>1.72360054</td><td>True</td></tr>\n",
       "<tr><td>irac145725_1</td><td>2014apr06 ..</td><td>False .. False</td><td>E1a ..</td><td>False .. False</td><td>E1a ..</td><td>False .. False</td><td>44 .. 0</td><td>False .. False</td><td>8</td><td>False</td><td>1.7</td><td>True</td><td>8.62</td><td>True</td><td>10.0875</td><td>True</td><td>3.93538</td><td>True</td><td>1.72360054</td><td>True</td></tr>\n",
       "<tr><td>irac145822</td><td>2014apr06 ..</td><td>False .. False</td><td>E1a ..</td><td>False .. False</td><td>E1a ..</td><td>False .. False</td><td>19 .. 0</td><td>False .. False</td><td>8</td><td>False</td><td>1.7</td><td>True</td><td>8.62</td><td>True</td><td>10.0875</td><td>True</td><td>3.93538</td><td>True</td><td>1.72360054</td><td>True</td></tr>\n",
       "<tr><td>irac217060</td><td>2017apr04 ..</td><td>False .. False</td><td>E6a ..</td><td>False .. False</td><td>E6a ..</td><td>False .. False</td><td>110 .. 0</td><td>False .. False</td><td>4</td><td>False</td><td>1.7</td><td>True</td><td>8.62</td><td>True</td><td>10.0875</td><td>True</td><td>3.93538</td><td>True</td><td>1.72360054</td><td>True</td></tr>\n",
       "<tr><td>irac218953</td><td>2015mar25 ..</td><td>False .. False</td><td>E3a ..</td><td>False .. False</td><td>E3a ..</td><td>False .. False</td><td>99 .. 0</td><td>False .. False</td><td>12</td><td>False</td><td>1.7</td><td>True</td><td>8.62</td><td>True</td><td>10.0875</td><td>True</td><td>3.93538</td><td>True</td><td>1.72360054</td><td>True</td></tr>\n",
       "<tr><td>irac219468</td><td>2014jun24 ..</td><td>False .. False</td><td>E2a ..</td><td>False .. False</td><td>E2a ..</td><td>False .. False</td><td>128 .. 0</td><td>False .. False</td><td>6</td><td>False</td><td>1.7</td><td>True</td><td>8.62</td><td>True</td><td>10.0875</td><td>True</td><td>3.93538</td><td>True</td><td>1.72360054</td><td>True</td></tr>\n",
       "<tr><td>irac219829_1</td><td>2014apr06 ..</td><td>False .. False</td><td>E1a ..</td><td>False .. False</td><td>E1a ..</td><td>False .. False</td><td>126 .. 0</td><td>False .. False</td><td>8</td><td>False</td><td>1.7</td><td>True</td><td>8.62</td><td>True</td><td>10.0875</td><td>True</td><td>3.93538</td><td>True</td><td>1.72360054</td><td>True</td></tr>\n",
       "</table>"
      ],
      "text/plain": [
       "<Table length=905>\n",
       " HALO7D_ID   obs_date [16] ... WFC3_F160W_flux WFC3_F160W_flux.mask\n",
       "  bytes13       bytes13    ...     float64             bool        \n",
       "------------ ------------- ... --------------- --------------------\n",
       "       10051    0.0 .. 0.0 ...       585.94377                False\n",
       "       10234 2014apr06 ..  ...      3.06730675                False\n",
       "       10272 2014apr06 ..  ...      16.8442875                False\n",
       "       10274 2016apr09 ..  ...      1.82754524                False\n",
       "       10381 2014apr06 ..  ...      1.07857201                False\n",
       "       10406 2014apr29 ..  ...      8.48216118                False\n",
       "       10423 2014apr29 ..  ...      7.80953724                False\n",
       "       10588    0.0 .. 0.0 ...      11940.2515                False\n",
       "       10635 2016apr09 ..  ...      53.5181665                False\n",
       "       10674 2014jun24 ..  ...        175.2408                False\n",
       "         ...           ... ...             ...                  ...\n",
       "  irac144083 2014apr06 ..  ...      1.72360054                 True\n",
       "  irac144436 2014apr06 ..  ...      1.72360054                 True\n",
       "  irac144837 2014apr06 ..  ...      1.72360054                 True\n",
       "  irac145562 2014apr06 ..  ...      1.72360054                 True\n",
       "irac145725_1 2014apr06 ..  ...      1.72360054                 True\n",
       "  irac145822 2014apr06 ..  ...      1.72360054                 True\n",
       "  irac217060 2017apr04 ..  ...      1.72360054                 True\n",
       "  irac218953 2015mar25 ..  ...      1.72360054                 True\n",
       "  irac219468 2014jun24 ..  ...      1.72360054                 True\n",
       "irac219829_1 2014apr06 ..  ...      1.72360054                 True"
      ]
     },
     "execution_count": 2,
     "metadata": {},
     "output_type": "execute_result"
    }
   ],
   "source": [
    "data=Table.read('../data/SIP_egs_spec_candels_data.hdf5')\n",
    "data"
   ]
  },
  {
   "cell_type": "code",
   "execution_count": 3,
   "metadata": {},
   "outputs": [],
   "source": [
    "data['HALO7D_ID'] = data['HALO7D_ID'].astype(str)\n",
    "data['obs_date'] = data['obs_date'].astype(str)\n",
    "data['mask'] = data['mask'].astype(str)\n",
    "data['mask_folder'] = data['mask_folder'].astype(str)\n",
    "C = {'egs' : data}"
   ]
  },
  {
   "cell_type": "code",
   "execution_count": 4,
   "metadata": {},
   "outputs": [],
   "source": [
    "def abmag(flux): \n",
    "    return -2.5*np.log10(flux)+23.9\n",
    "def log10n(x):\n",
    "    logx=np.choose(x>0.,(-99.,np.log10(x)))\n",
    "    return logx"
   ]
  },
  {
   "cell_type": "code",
   "execution_count": 5,
   "metadata": {},
   "outputs": [],
   "source": [
    "selection = (data['zbest'] > 0.6)\\\n",
    "& (data['zbest'] < 0.8)\\\n",
    "& (data['HALO7D_ID'] != '-999')\\\n",
    "& (data['M_2a_tau'] > 9)\\\n",
    "& (data['M_2a_tau'] < 10)\\\n",
    "& (log10n(data['ir_SFRTOTf'])>data['M_14a_tau']-9.5)\\\n",
    "& (data['M_14a_tau']>=9.5)\\\n",
    "& (abmag(data['WFC3_F160W_flux'])<24)"
   ]
  },
  {
   "cell_type": "code",
   "execution_count": 6,
   "metadata": {},
   "outputs": [
    {
     "data": {
      "text/html": [
       "<i>Table length=8</i>\n",
       "<table id=\"table140527586765512\" class=\"table-striped table-bordered table-condensed\">\n",
       "<thead><tr><th>HALO7D_ID</th><th>zbest</th></tr></thead>\n",
       "<thead><tr><th>str13</th><th>float64</th></tr></thead>\n",
       "<tr><td>10423</td><td>0.739</td></tr>\n",
       "<tr><td>26165</td><td>0.738</td></tr>\n",
       "<tr><td>7175</td><td>0.6469</td></tr>\n",
       "<tr><td>irac102206</td><td>0.746</td></tr>\n",
       "<tr><td>irac119139</td><td>0.714</td></tr>\n",
       "<tr><td>irac119158</td><td>0.724</td></tr>\n",
       "<tr><td>irac123233</td><td>0.734</td></tr>\n",
       "<tr><td>irac129931</td><td>0.759</td></tr>\n",
       "</table>"
      ],
      "text/plain": [
       "<Table length=8>\n",
       "HALO7D_ID   zbest \n",
       "  str13    float64\n",
       "---------- -------\n",
       "     10423   0.739\n",
       "     26165   0.738\n",
       "      7175  0.6469\n",
       "irac102206   0.746\n",
       "irac119139   0.714\n",
       "irac119158   0.724\n",
       "irac123233   0.734\n",
       "irac129931   0.759"
      ]
     },
     "execution_count": 6,
     "metadata": {},
     "output_type": "execute_result"
    }
   ],
   "source": [
    "data['HALO7D_ID','zbest'][selection]"
   ]
  },
  {
   "cell_type": "code",
   "execution_count": 7,
   "metadata": {},
   "outputs": [
    {
     "name": "stdout",
     "output_type": "stream",
     "text": [
      "['2015mar25' '2015apr12' '2015apr12' '2015apr15' '2015mar24' '2015apr13'\n",
      " '2015apr13' '2015may18' '2015may19' '2015may19' '2015apr14' '2015apr14'\n",
      " '' '' '' '']\n",
      "['E3a' 'E3a' 'E3b' 'E3b' 'E3a' 'E3a' 'E3b' 'E3a' 'E3a' 'E3b' 'E3a' 'E3b'\n",
      " '' '' '' '']\n"
     ]
    }
   ],
   "source": [
    "sp = np.flatnonzero(data['HALO7D_ID'] == 'irac119139')[0] # Picking out the index of target galaxy in data table\n",
    "print(data['obs_date'][sp]) # Show all observing runs for this object\n",
    "print(data['mask'][sp]) # Show all corresponding masks for this object\n",
    "run = 1 # Picking which of the runs to plot"
   ]
  },
  {
   "cell_type": "code",
   "execution_count": 8,
   "metadata": {},
   "outputs": [],
   "source": [
    "hdu = fits.open(pathtospectra + data['obs_date'][sp][run] + '_red/' + data['mask_folder'][sp][run]\\\n",
    "               + '/spec1d.' + data['mask'][sp][run] + '.' + str('%03i'%data['slit'][sp][run]) + '.' +\n",
    "               data['HALO7D_ID'][sp] + '.fits')\n",
    "#/misc/marenostrum/pgperez/gbarro/DEIMOS/halo7d/data_reduction_HY_V2/2016mar03_red/c3a/spec1d.c3a.082.serendip2.fits',"
   ]
  },
  {
   "cell_type": "code",
   "execution_count": 10,
   "metadata": {},
   "outputs": [
    {
     "data": {
      "text/plain": [
       "Text(0, 0.5, 'Flux')"
      ]
     },
     "execution_count": 10,
     "metadata": {},
     "output_type": "execute_result"
    },
    {
     "data": {
      "image/png": "[encoded data removed]",
      "text/plain": [
       "<Figure size 864x360 with 2 Axes>"
      ]
     },
     "metadata": {
      "needs_background": "light"
     },
     "output_type": "display_data"
    }
   ],
   "source": [
    "blue = hdu[1].data[0]\n",
    "red = hdu[2].data[0]\n",
    "f, ax = plt.subplots(1, 2, figsize = [12,5])\n",
    "f.subplots_adjust(wspace = 0.3)\n",
    "\n",
    "# Blue Side\n",
    "ax[0].plot(blue['LAMBDA']/(1 + data['zbest'][sp]), blue['SPEC'], 'k-')\n",
    "# Around OII\n",
    "ax[0].set_xlim(3600,3800)\n",
    "ax[0].set_xlabel('Rest Wavelength')\n",
    "ax[0].set_ylabel('Flux')\n",
    "\n",
    "# Red Side\n",
    "ax[1].plot(red['LAMBDA']/(1 + data['zbest'][sp]), red['SPEC'],'k-')\n",
    "# Around OIII\n",
    "ax[1].set_xlim(4800,5250)\n",
    "ax[1].set_xlabel('Rest Wavelength')\n",
    "ax[1].set_ylabel('Flux')"
   ]
  },
  {
   "cell_type": "code",
   "execution_count": null,
   "metadata": {},
   "outputs": [],
   "source": []
  }
 ],
 "metadata": {
  "kernelspec": {
   "display_name": "Python 3",
   "language": "python",
   "name": "python3"
  },
  "language_info": {
   "codemirror_mode": {
    "name": "ipython",
    "version": 3
   },
   "file_extension": ".py",
   "mimetype": "text/x-python",
   "name": "python",
   "nbconvert_exporter": "python",
   "pygments_lexer": "ipython3",
   "version": "3.7.3"
  }
 },
 "nbformat": 4,
 "nbformat_minor": 2
}
